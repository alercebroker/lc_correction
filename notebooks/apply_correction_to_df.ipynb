{
 "cells": [
  {
   "cell_type": "code",
   "execution_count": 1,
   "metadata": {
    "ExecuteTime": {
     "end_time": "2020-06-15T16:53:37.682415Z",
     "start_time": "2020-06-15T16:53:37.677105Z"
    }
   },
   "outputs": [],
   "source": [
    "import os\n",
    "import fastavro\n",
    "import numpy as np\n",
    "import pandas as pd\n",
    "import matplotlib.pyplot as plt\n",
    "from correction.compute import *"
   ]
  },
  {
   "cell_type": "code",
   "execution_count": 2,
   "metadata": {
    "ExecuteTime": {
     "end_time": "2020-06-15T19:43:56.799870Z",
     "start_time": "2020-06-15T19:43:56.795867Z"
    }
   },
   "outputs": [
    {
     "data": {
      "text/html": [
       "<style>.container { width:100% !important; }</style>"
      ],
      "text/plain": [
       "<IPython.core.display.HTML object>"
      ]
     },
     "metadata": {},
     "output_type": "display_data"
    }
   ],
   "source": [
    "from IPython.core.display import display, HTML\n",
    "display(HTML(\"<style>.container { width:100% !important; }</style>\"))"
   ]
  },
  {
   "cell_type": "code",
   "execution_count": 3,
   "metadata": {
    "ExecuteTime": {
     "end_time": "2020-06-15T19:50:48.211789Z",
     "start_time": "2020-06-15T19:50:48.170598Z"
    }
   },
   "outputs": [],
   "source": [
    "data = pd.read_csv(\"../data_examples/csv/raw_detections.csv\", index_col=False)"
   ]
  },
  {
   "cell_type": "code",
   "execution_count": 5,
   "metadata": {},
   "outputs": [],
   "source": [
    "def apply_correction_dfs(data):\n",
    "    \n",
    "    # create copy of dataframe\n",
    "    df = data.copy()\n",
    "    df.set_index(\"candid\", inplace=True)\n",
    "    \n",
    "    # map isdiffpos\n",
    "    df['isdiffpos'] = df['isdiffpos'].map({'t': 1., '1': 1, '0': -1, 'f': -1.})\n",
    "\n",
    "    # apply correction where distnr < 1.4\n",
    "    df[\"corrected\"] = df[\"distnr\"] < 1.4\n",
    "\n",
    "    # correct\n",
    "    correction_results = df.apply(lambda x: correction(x.magnr, x.magpsf, x.sigmagnr, x.sigmapsf, x.isdiffpos, oid=df.objectId.iloc[0], candid=x.name) if x[\"corrected\"] else (np.nan, np.nan, np.nan), axis=1, result_type=\"expand\")\n",
    "    try:\n",
    "        df[\"magpsf_corr\"], df[\"sigmapsf_corr\"], df[\"sigmapsf_corr_ext\"] = correction_results[0], correction_results[1], correction_results[2]\n",
    "    except:\n",
    "        display(correction_results)\n",
    "        print(correction_results)\n",
    "    \n",
    "    # check if suspicious behavior in the light curve (c1 | c2 | c3)\n",
    "    corr_magstats = df.loc[df.index.min()][\"corrected\"]\n",
    "    mask = ((df[\"corrected\"] == False) & (df.isdiffpos == -1)) | (corr_magstats & (df[\"corrected\"] == False)) | ((corr_magstats == False) & df[\"corrected\"])\n",
    "    df[\"dubious\"] = mask\n",
    "    \n",
    "    return df"
   ]
  },
  {
   "cell_type": "code",
   "execution_count": 8,
   "metadata": {},
   "outputs": [],
   "source": [
    "a = data.groupby([\"objectId\", \"fid\"]).apply(apply_correction_dfs)"
   ]
  },
  {
   "cell_type": "code",
   "execution_count": 11,
   "metadata": {},
   "outputs": [],
   "source": [
    "b = data.groupby([\"objectId\", \"fid\"]).apply(apply_correction_df)"
   ]
  },
  {
   "cell_type": "code",
   "execution_count": 15,
   "metadata": {},
   "outputs": [
    {
     "data": {
      "text/html": [
       "<div>\n",
       "<style scoped>\n",
       "    .dataframe tbody tr th:only-of-type {\n",
       "        vertical-align: middle;\n",
       "    }\n",
       "\n",
       "    .dataframe tbody tr th {\n",
       "        vertical-align: top;\n",
       "    }\n",
       "\n",
       "    .dataframe thead th {\n",
       "        text-align: right;\n",
       "    }\n",
       "</style>\n",
       "<table border=\"1\" class=\"dataframe\">\n",
       "  <thead>\n",
       "    <tr style=\"text-align: right;\">\n",
       "      <th></th>\n",
       "      <th></th>\n",
       "      <th></th>\n",
       "      <th>objectId</th>\n",
       "      <th>fid</th>\n",
       "      <th>jd</th>\n",
       "      <th>pid</th>\n",
       "      <th>diffmaglim</th>\n",
       "      <th>pdiffimfilename</th>\n",
       "      <th>programpi</th>\n",
       "      <th>programid</th>\n",
       "      <th>isdiffpos</th>\n",
       "      <th>tblid</th>\n",
       "      <th>...</th>\n",
       "      <th>maggaiabright</th>\n",
       "      <th>exptime</th>\n",
       "      <th>drb</th>\n",
       "      <th>drbversion</th>\n",
       "      <th>candid_parent</th>\n",
       "      <th>corrected</th>\n",
       "      <th>magpsf_corr</th>\n",
       "      <th>sigmapsf_corr</th>\n",
       "      <th>sigmapsf_corr_ext</th>\n",
       "      <th>dubious</th>\n",
       "    </tr>\n",
       "    <tr>\n",
       "      <th>objectId</th>\n",
       "      <th>fid</th>\n",
       "      <th>candid</th>\n",
       "      <th></th>\n",
       "      <th></th>\n",
       "      <th></th>\n",
       "      <th></th>\n",
       "      <th></th>\n",
       "      <th></th>\n",
       "      <th></th>\n",
       "      <th></th>\n",
       "      <th></th>\n",
       "      <th></th>\n",
       "      <th></th>\n",
       "      <th></th>\n",
       "      <th></th>\n",
       "      <th></th>\n",
       "      <th></th>\n",
       "      <th></th>\n",
       "      <th></th>\n",
       "      <th></th>\n",
       "      <th></th>\n",
       "      <th></th>\n",
       "      <th></th>\n",
       "    </tr>\n",
       "  </thead>\n",
       "  <tbody>\n",
       "    <tr>\n",
       "      <th>ZTF18aaiscil</th>\n",
       "      <th>1</th>\n",
       "      <th>1032528244615010002</th>\n",
       "      <td>ZTF18aaiscil</td>\n",
       "      <td>1</td>\n",
       "      <td>2.458787e+06</td>\n",
       "      <td>1032528244615</td>\n",
       "      <td>18.4697</td>\n",
       "      <td>/ztf/archive/sci/2019/1030/528241/ztf_20191030...</td>\n",
       "      <td>Kulkarni</td>\n",
       "      <td>1</td>\n",
       "      <td>-1.0</td>\n",
       "      <td>2</td>\n",
       "      <td>...</td>\n",
       "      <td>NaN</td>\n",
       "      <td>NaN</td>\n",
       "      <td>NaN</td>\n",
       "      <td>NaN</td>\n",
       "      <td>1.058557e+18</td>\n",
       "      <td>False</td>\n",
       "      <td>NaN</td>\n",
       "      <td>NaN</td>\n",
       "      <td>NaN</td>\n",
       "      <td>True</td>\n",
       "    </tr>\n",
       "  </tbody>\n",
       "</table>\n",
       "<p>1 rows × 109 columns</p>\n",
       "</div>"
      ],
      "text/plain": [
       "                                          objectId  fid            jd  \\\n",
       "objectId     fid candid                                                 \n",
       "ZTF18aaiscil 1   1032528244615010002  ZTF18aaiscil    1  2.458787e+06   \n",
       "\n",
       "                                                pid  diffmaglim  \\\n",
       "objectId     fid candid                                           \n",
       "ZTF18aaiscil 1   1032528244615010002  1032528244615     18.4697   \n",
       "\n",
       "                                                                        pdiffimfilename  \\\n",
       "objectId     fid candid                                                                   \n",
       "ZTF18aaiscil 1   1032528244615010002  /ztf/archive/sci/2019/1030/528241/ztf_20191030...   \n",
       "\n",
       "                                     programpi  programid  isdiffpos  tblid  \\\n",
       "objectId     fid candid                                                       \n",
       "ZTF18aaiscil 1   1032528244615010002  Kulkarni          1       -1.0      2   \n",
       "\n",
       "                                      ...  maggaiabright  exptime  drb  \\\n",
       "objectId     fid candid               ...                                \n",
       "ZTF18aaiscil 1   1032528244615010002  ...            NaN      NaN  NaN   \n",
       "\n",
       "                                      drbversion  candid_parent  corrected  \\\n",
       "objectId     fid candid                                                      \n",
       "ZTF18aaiscil 1   1032528244615010002         NaN   1.058557e+18      False   \n",
       "\n",
       "                                      magpsf_corr  sigmapsf_corr  \\\n",
       "objectId     fid candid                                            \n",
       "ZTF18aaiscil 1   1032528244615010002          NaN            NaN   \n",
       "\n",
       "                                      sigmapsf_corr_ext  dubious  \n",
       "objectId     fid candid                                           \n",
       "ZTF18aaiscil 1   1032528244615010002                NaN     True  \n",
       "\n",
       "[1 rows x 109 columns]"
      ]
     },
     "execution_count": 15,
     "metadata": {},
     "output_type": "execute_result"
    }
   ],
   "source": [
    "a[a.dubious == True]"
   ]
  },
  {
   "cell_type": "code",
   "execution_count": 21,
   "metadata": {},
   "outputs": [
    {
     "data": {
      "text/plain": [
       "1"
      ]
     },
     "execution_count": 21,
     "metadata": {},
     "output_type": "execute_result"
    }
   ],
   "source": [
    "is_dubious(True, True, False)"
   ]
  },
  {
   "cell_type": "code",
   "execution_count": null,
   "metadata": {},
   "outputs": [],
   "source": []
  },
  {
   "cell_type": "code",
   "execution_count": null,
   "metadata": {},
   "outputs": [],
   "source": []
  },
  {
   "cell_type": "code",
   "execution_count": null,
   "metadata": {},
   "outputs": [],
   "source": []
  },
  {
   "cell_type": "code",
   "execution_count": null,
   "metadata": {},
   "outputs": [],
   "source": []
  },
  {
   "cell_type": "code",
   "execution_count": null,
   "metadata": {},
   "outputs": [],
   "source": []
  },
  {
   "cell_type": "code",
   "execution_count": null,
   "metadata": {},
   "outputs": [],
   "source": []
  },
  {
   "cell_type": "code",
   "execution_count": null,
   "metadata": {},
   "outputs": [],
   "source": []
  },
  {
   "cell_type": "code",
   "execution_count": null,
   "metadata": {
    "ExecuteTime": {
     "end_time": "2020-06-15T19:51:45.406182Z",
     "start_time": "2020-06-15T19:51:45.403394Z"
    }
   },
   "outputs": [],
   "source": [
    "# test c2\n",
    "data.at[180, \"isdiffpos\"] = 'f'"
   ]
  },
  {
   "cell_type": "code",
   "execution_count": null,
   "metadata": {
    "ExecuteTime": {
     "end_time": "2020-06-15T19:55:14.638918Z",
     "start_time": "2020-06-15T19:55:14.630686Z"
    }
   },
   "outputs": [],
   "source": [
    "# test c3\n",
    "data.at[150, \"distnr\"] = 0.1"
   ]
  },
  {
   "cell_type": "code",
   "execution_count": null,
   "metadata": {
    "ExecuteTime": {
     "end_time": "2020-06-15T19:25:23.061854Z",
     "start_time": "2020-06-15T19:25:23.056507Z"
    }
   },
   "outputs": [],
   "source": [
    "print(data.objectId.unique(), data.fid.unique())"
   ]
  },
  {
   "cell_type": "code",
   "execution_count": null,
   "metadata": {
    "ExecuteTime": {
     "end_time": "2020-06-15T19:55:17.115333Z",
     "start_time": "2020-06-15T19:55:16.919125Z"
    },
    "scrolled": true
   },
   "outputs": [],
   "source": [
    "pd.options.display.max_rows = 999\n",
    "display(data[[\"objectId\", \"fid\", \"magpsf\", \"distnr\", \"chinr\", \"sharpnr\"]])"
   ]
  },
  {
   "cell_type": "code",
   "execution_count": null,
   "metadata": {
    "ExecuteTime": {
     "end_time": "2020-06-16T15:37:38.282346Z",
     "start_time": "2020-06-16T15:37:38.246837Z"
    }
   },
   "outputs": [],
   "source": [
    "def apply_correction_df(data):\n",
    "    \n",
    "    # apply correction where possible, save corrected column\n",
    "    df = data.copy()\n",
    "    #display(df.head(1))\n",
    "    #print(df.objectId.unique(), df.fid.unique())\n",
    "    df['isdiffpos'] = df['isdiffpos'].map({'t': 1., 'f': -1.})\n",
    "    df[\"corr\"] = df[\"distnr\"] < 1.4\n",
    "    correction_results = df.apply(lambda x: correction(x.magnr, x.magpsf, x.sigmagnr, x.sigmapsf, x.isdiffpos) if x[\"corr\"] else (np.nan, np.nan, np.nan), axis=1, result_type=\"expand\")\n",
    "    df[\"magpsf_corr\"], df[\"sigmapsf_corr\"], df[\"sigmapsf_corr_ext\"] = correction_results[0], correction_results[1], correction_results[2]\n",
    "    \n",
    "    # check for consistency\n",
    "    idxmin = df.candid.idxmin()\n",
    "    df[\"corr_magstats\"] = df.loc[idxmin][\"corr\"]\n",
    "    \n",
    "    # check if suspicious behavior in the light curve (c1 | c2 | c3)\n",
    "    mask = ((df[\"corr\"] == False) & (df.isdiffpos == -1)) | (df.corr_magstats & (df[\"corr\"] == False)) | ((df.corr_magstats == False) & df[\"corr\"])\n",
    "    df[\"dubious\"] = mask\n",
    "    \n",
    "    # stellar_object\n",
    "    idxmin = df.candid.idxmin()\n",
    "    nearZTF = (df.loc[idxmin].distnr < 1.4) # near a ZTF object\n",
    "    nearPS1 = (df.loc[idxmin].distpsnr1 < 1.4) # near a PS1 object\n",
    "    stellarPS1 = (df.loc[idxmin].sgscore1 > 0.4)  # nearest object in PS1 is stelar\n",
    "    stellarZTF = (df.loc[idxmin].chinr < 2) & (df.loc[idxmin].sharpnr > -0.13) & (df.loc[idxmin].sharpnr < 0.1) # nearest object in ZT is stellar\n",
    "    df[\"stellar_object\"] = (nearZTF & nearPS1 & stellarPS1) | (nearZTF & ~nearPS1 & stellarZTF)\n",
    "    df[\"stellar_magstats\"] = (nearZTF & stellarZTF)\n",
    "    \n",
    "    return df"
   ]
  },
  {
   "cell_type": "code",
   "execution_count": null,
   "metadata": {},
   "outputs": [],
   "source": [
    "def apply_magstats(df):\n",
    "    response = {}\n",
    "    idxmin = df.candid.idxmin()\n",
    "    idxmax = df.candid.idxmax()\n",
    "    nearZTF = (df.loc[idxmin].distnr < 1.4) # near a ZTF object\n",
    "    nearPS1 = (df.loc[idxmin].distpsnr1 < 1.4) # near a PS1 object\n",
    "    stellarPS1 = (df.loc[idxmin].sgscore1 > 0.4)  # nearest object in PS1 is stelar\n",
    "    stellarZTF = (df.loc[idxmin].chinr < 2) & (df.loc[idxmin].sharpnr > -0.13) & (df.loc[idxmin].sharpnr < 0.1) # nearest object in ZT is stellar \n",
    "    response[\"ndet\"] = len(df)\n",
    "    response[\"rfid\"] = df.loc[idxmin].rfid # ?\n",
    "    response[\"nrfid\"] = len(df.rfid.dropna().unique())\n",
    "    response[\"magnr\"] = df.loc[idxmin].magnr # ?\n",
    "    response[\"stellar_object\"] = (nearZTF & nearPS1 & stellarPS1) | (nearZTF & ~nearPS1 & stellarZTF)\n",
    "    response[\"stellar_magstats\"] = (nearZTF & stellarZTF)\n",
    "    response[\"magap_mean\"] = df.magap.mean()\n",
    "    response[\"magap_median\"] = df.magap.median()\n",
    "    response[\"magap_max\"] = df.magap.max()\n",
    "    response[\"magap_min\"] = df.magap.min()\n",
    "    response[\"magap_fisrt\"] = df.loc[idxmin].magap\n",
    "    response[\"magap_last\"] = df.loc[idxmax].magap\n",
    "    response[\"first_mjd\"] = df.loc[idxmin].jd - 2400000.5\n",
    "    response[\"last_mjd\"] = df.loc[idxmax].jd - 2400000.5\n",
    "    return pd.Series(response)"
   ]
  },
  {
   "cell_type": "code",
   "execution_count": null,
   "metadata": {
    "ExecuteTime": {
     "end_time": "2020-06-16T15:41:21.479567Z",
     "start_time": "2020-06-16T15:41:20.967031Z"
    },
    "scrolled": true
   },
   "outputs": [],
   "source": [
    "dflarge = data.groupby([\"objectId\", \"fid\"]).apply(apply_correction_df)"
   ]
  },
  {
   "cell_type": "code",
   "execution_count": null,
   "metadata": {
    "ExecuteTime": {
     "end_time": "2020-06-16T15:41:22.509039Z",
     "start_time": "2020-06-16T15:41:22.198560Z"
    },
    "scrolled": true
   },
   "outputs": [],
   "source": [
    "dflarge[[\"objectId\", \"fid\", \"distnr\", \"distpsnr1\", \"sgscore1\", \"chinr\", \"sharpnr\", \"corr\", \"corr_magstats\", \"dubious\", \"stellar_object\", \"stellar_magstats\"]]"
   ]
  },
  {
   "cell_type": "code",
   "execution_count": null,
   "metadata": {},
   "outputs": [],
   "source": [
    "groups = data.groupby([\"objectId\", \"fid\"])"
   ]
  },
  {
   "cell_type": "code",
   "execution_count": null,
   "metadata": {},
   "outputs": [],
   "source": [
    "magstats = groups.apply(apply_magstats)\n",
    "display(magstats)"
   ]
  },
  {
   "cell_type": "code",
   "execution_count": null,
   "metadata": {},
   "outputs": [],
   "source": []
  }
 ],
 "metadata": {
  "kernelspec": {
   "display_name": "Python 3",
   "language": "python",
   "name": "python3"
  },
  "language_info": {
   "codemirror_mode": {
    "name": "ipython",
    "version": 3
   },
   "file_extension": ".py",
   "mimetype": "text/x-python",
   "name": "python",
   "nbconvert_exporter": "python",
   "pygments_lexer": "ipython3",
   "version": "3.7.4"
  }
 },
 "nbformat": 4,
 "nbformat_minor": 2
}
