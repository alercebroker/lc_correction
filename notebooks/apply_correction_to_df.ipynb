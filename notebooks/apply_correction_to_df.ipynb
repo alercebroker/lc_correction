{
 "cells": [
  {
   "cell_type": "code",
   "execution_count": 115,
   "metadata": {},
   "outputs": [],
   "source": [
    "import os\n",
    "import fastavro\n",
    "import numpy as np\n",
    "import pandas as pd\n",
    "import matplotlib.pyplot as plt\n",
    "from correction.compute import *"
   ]
  },
  {
   "cell_type": "code",
   "execution_count": 121,
   "metadata": {},
   "outputs": [],
   "source": [
    "data = pd.read_csv(\"../data_examples/csv/raw_detections.csv\", index_col=False)"
   ]
  },
  {
   "cell_type": "code",
   "execution_count": 122,
   "metadata": {},
   "outputs": [],
   "source": [
    "def correction(magnr, magpsf, sigmagnr, sigmapsf, isdiffpos): #Correction Algorithm \n",
    "    aux1 = 10**(-0.4 * magnr)\n",
    "    aux2 = 10**(-0.4 * magpsf)\n",
    "    aux3 = aux1 + isdiffpos * aux2\n",
    "    if aux3 > 0:\n",
    "        magpsf_corr = -2.5 * np.log10(aux3)\n",
    "        aux4 = aux2**2 * sigmapsf**2 - aux1**2 * sigmagnr**2\n",
    "\n",
    "        if aux4 >= 0:\n",
    "            sigmapsf_corr = np.sqrt(aux4) / aux3\n",
    "        else:\n",
    "            sigmapsf_corr = ZERO_MAG\n",
    "                \n",
    "        sigmapsf_corr_ext = aux2 * sigmapsf / aux3\n",
    "    else:\n",
    "        magpsf_corr = ZERO_MAG\n",
    "        sigmapsf_corr = ZERO_MAG\n",
    "        sigmapsf_corr_ext = ZERO_MAG\n",
    "\n",
    "    return magpsf_corr, sigmapsf_corr, sigmapsf_corr_ext"
   ]
  },
  {
   "cell_type": "code",
   "execution_count": 157,
   "metadata": {},
   "outputs": [],
   "source": [
    "def apply_correction_df(data):\n",
    "    df = data.copy()\n",
    "    df['isdiffpos'] = df['isdiffpos'].map({'t': 1., 'f': -1.})\n",
    "    correction_results = df.apply(lambda x: correction(x.magnr, x.magpsf, x.sigmagnr, x.sigmapsf, x.isdiffpos), axis=1, result_type=\"expand\")\n",
    "    df[\"magpsf_corr\"], df[\"sigmapsf_corr\"], df[\"sigmapsf_corr_ext\"] = correction_results[0].values, correction_results[1].values, correction_results[2].values \n",
    "    return correction_results"
   ]
  },
  {
   "cell_type": "code",
   "execution_count": 160,
   "metadata": {},
   "outputs": [
    {
     "name": "stdout",
     "output_type": "stream",
     "text": [
      "305 ms ± 23.4 ms per loop (mean ± std. dev. of 7 runs, 1 loop each)\n"
     ]
    }
   ],
   "source": [
    "%%timeit\n",
    "a = apply_correction_df(data)"
   ]
  },
  {
   "cell_type": "code",
   "execution_count": 163,
   "metadata": {},
   "outputs": [],
   "source": [
    "grupos = data.groupby(\"objectId\")"
   ]
  },
  {
   "cell_type": "code",
   "execution_count": 168,
   "metadata": {},
   "outputs": [],
   "source": [
    "for g in grupos:\n",
    "    re = apply_correction_df(g[1])"
   ]
  },
  {
   "cell_type": "code",
   "execution_count": null,
   "metadata": {},
   "outputs": [],
   "source": []
  }
 ],
 "metadata": {
  "kernelspec": {
   "display_name": "Python 3",
   "language": "python",
   "name": "python3"
  },
  "language_info": {
   "codemirror_mode": {
    "name": "ipython",
    "version": 3
   },
   "file_extension": ".py",
   "mimetype": "text/x-python",
   "name": "python",
   "nbconvert_exporter": "python",
   "pygments_lexer": "ipython3",
   "version": "3.7.4"
  }
 },
 "nbformat": 4,
 "nbformat_minor": 2
}
