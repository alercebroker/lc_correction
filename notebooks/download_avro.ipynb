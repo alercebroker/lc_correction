{
 "cells": [
  {
   "cell_type": "code",
   "execution_count": 13,
   "metadata": {},
   "outputs": [],
   "source": [
    "import os\n",
    "import requests\n",
    "import fastavro\n",
    "from alerce.api import AlerceAPI"
   ]
  },
  {
   "cell_type": "code",
   "execution_count": 14,
   "metadata": {},
   "outputs": [],
   "source": [
    "client = AlerceAPI()"
   ]
  },
  {
   "cell_type": "code",
   "execution_count": 15,
   "metadata": {},
   "outputs": [],
   "source": [
    "oids = [\"ZTF19aazzpje\", \"ZTF20aaelulu\", \"ZTF19aazzpje\", \"ZTF18aaiscil\", \"ZTF18abdgukn\", \"ZTF18aazxcwf\"]"
   ]
  },
  {
   "cell_type": "code",
   "execution_count": 16,
   "metadata": {},
   "outputs": [],
   "source": [
    "ALERCE_URL = \"http://ztf.alerce.online\"\n",
    "AVRO_URL = \"http://avro.alerce.online/\"\n",
    "AVRO_PATH = \"../data_examples/\""
   ]
  },
  {
   "cell_type": "code",
   "execution_count": 17,
   "metadata": {},
   "outputs": [],
   "source": [
    "def get_candids(oid):\n",
    "    params = {\"oid\": oid}\n",
    "    url = \"https://ztf.alerce.online\"\n",
    "    r = requests.post(url = f\"{ALERCE_URL}/get_detections\", json = params)\n",
    "    detections = r.json()[\"result\"][\"detections\"]\n",
    "    candids = [s[\"candid_str\"] for s in detections]\n",
    "    return candids"
   ]
  },
  {
   "cell_type": "code",
   "execution_count": 18,
   "metadata": {},
   "outputs": [],
   "source": [
    "def download_avro(oid, candid):\n",
    "    output_path = os.path.join(AVRO_PATH, oid)\n",
    "    avro_path = os.path.join(output_path, f\"{candid}.avro\")\n",
    "    \n",
    "    if not os.path.exists(output_path):\n",
    "         os.makedirs(output_path)\n",
    "            \n",
    "    if os.path.isfile(avro_path):\n",
    "        return 1 # This condition is for not download avros when already exists\n",
    "    else:\n",
    "        params = {\"oid\": oid, \"candid\": candid}\n",
    "        r = requests.get(url = f\"{AVRO_URL}/get_avro\", params = params)\n",
    "        with open(avro_path, 'wb') as f:\n",
    "            f.write(r.content)\n",
    "    return 0\n",
    "    "
   ]
  },
  {
   "cell_type": "code",
   "execution_count": 23,
   "metadata": {},
   "outputs": [
    {
     "name": "stdout",
     "output_type": "stream",
     "text": [
      "ZTF19aazzpje\n",
      "ZTF20aaelulu\n",
      "ZTF19aazzpje\n",
      "ZTF18aaiscil\n",
      "ZTF18abdgukn\n",
      "ZTF18aazxcwf\n"
     ]
    }
   ],
   "source": [
    "for oid in oids:\n",
    "    print(oid)\n",
    "    candids = get_candids(oid)\n",
    "    for avro in candids:\n",
    "        download_avro(oid, avro)"
   ]
  },
  {
   "cell_type": "code",
   "execution_count": null,
   "metadata": {},
   "outputs": [],
   "source": []
  }
 ],
 "metadata": {
  "kernelspec": {
   "display_name": "Python 3",
   "language": "python",
   "name": "python3"
  },
  "language_info": {
   "codemirror_mode": {
    "name": "ipython",
    "version": 3
   },
   "file_extension": ".py",
   "mimetype": "text/x-python",
   "name": "python",
   "nbconvert_exporter": "python",
   "pygments_lexer": "ipython3",
   "version": "3.7.4"
  }
 },
 "nbformat": 4,
 "nbformat_minor": 2
}
