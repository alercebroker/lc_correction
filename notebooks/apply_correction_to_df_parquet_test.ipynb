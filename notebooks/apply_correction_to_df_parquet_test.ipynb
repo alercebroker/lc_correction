{
 "cells": [
  {
   "cell_type": "code",
   "execution_count": null,
   "metadata": {
    "ExecuteTime": {
     "end_time": "2020-06-16T20:23:23.528643Z",
     "start_time": "2020-06-16T20:23:23.001015Z"
    }
   },
   "outputs": [],
   "source": [
    "import os\n",
    "import fastavro\n",
    "import numpy as np\n",
    "import pandas as pd\n",
    "import matplotlib.pyplot as plt\n",
    "from correction.compute import *"
   ]
  },
  {
   "cell_type": "code",
   "execution_count": null,
   "metadata": {
    "ExecuteTime": {
     "end_time": "2020-06-16T20:23:23.771101Z",
     "start_time": "2020-06-16T20:23:23.763590Z"
    }
   },
   "outputs": [],
   "source": [
    "from IPython.core.display import display, HTML\n",
    "display(HTML(\"<style>.container { width:100% !important; }</style>\"))"
   ]
  },
  {
   "cell_type": "code",
   "execution_count": null,
   "metadata": {
    "ExecuteTime": {
     "end_time": "2020-06-15T19:50:48.211789Z",
     "start_time": "2020-06-15T19:50:48.170598Z"
    }
   },
   "outputs": [],
   "source": [
    "data = pd.read_csv(\"../data_examples/csv/raw_detections.csv\", index_col=False)"
   ]
  },
  {
   "cell_type": "code",
   "execution_count": null,
   "metadata": {
    "ExecuteTime": {
     "end_time": "2020-06-16T20:23:38.184887Z",
     "start_time": "2020-06-16T20:23:38.181516Z"
    }
   },
   "outputs": [],
   "source": [
    "import os"
   ]
  },
  {
   "cell_type": "code",
   "execution_count": null,
   "metadata": {
    "ExecuteTime": {
     "end_time": "2020-06-16T20:25:16.723599Z",
     "start_time": "2020-06-16T20:25:15.917606Z"
    }
   },
   "outputs": [],
   "source": [
    "data = pd.read_parquet(\"./det_sample.parquet\")"
   ]
  },
  {
   "cell_type": "code",
   "execution_count": null,
   "metadata": {
    "ExecuteTime": {
     "end_time": "2020-06-16T20:25:17.711024Z",
     "start_time": "2020-06-16T20:25:17.678952Z"
    }
   },
   "outputs": [],
   "source": [
    "data.head()"
   ]
  },
  {
   "cell_type": "code",
   "execution_count": null,
   "metadata": {
    "ExecuteTime": {
     "end_time": "2020-06-15T19:51:45.406182Z",
     "start_time": "2020-06-15T19:51:45.403394Z"
    }
   },
   "outputs": [],
   "source": [
    "# test c2\n",
    "data.at[180, \"isdiffpos\"] = 'f'"
   ]
  },
  {
   "cell_type": "code",
   "execution_count": null,
   "metadata": {
    "ExecuteTime": {
     "end_time": "2020-06-15T19:55:14.638918Z",
     "start_time": "2020-06-15T19:55:14.630686Z"
    }
   },
   "outputs": [],
   "source": [
    "# test c3\n",
    "data.at[150, \"distnr\"] = 0.1"
   ]
  },
  {
   "cell_type": "code",
   "execution_count": null,
   "metadata": {
    "ExecuteTime": {
     "end_time": "2020-06-16T20:25:21.869612Z",
     "start_time": "2020-06-16T20:25:21.775732Z"
    }
   },
   "outputs": [],
   "source": [
    "print(data.objectId.unique(), data.fid.unique())"
   ]
  },
  {
   "cell_type": "code",
   "execution_count": null,
   "metadata": {
    "ExecuteTime": {
     "end_time": "2020-06-16T20:25:24.999625Z",
     "start_time": "2020-06-16T20:25:24.797904Z"
    },
    "scrolled": true
   },
   "outputs": [],
   "source": [
    "pd.options.display.max_rows = 999\n",
    "display(data[[\"objectId\", \"fid\", \"magpsf\", \"distnr\", \"chinr\", \"sharpnr\"]])"
   ]
  },
  {
   "cell_type": "code",
   "execution_count": null,
   "metadata": {
    "ExecuteTime": {
     "end_time": "2020-06-16T15:37:38.282346Z",
     "start_time": "2020-06-16T15:37:38.246837Z"
    }
   },
   "outputs": [],
   "source": [
    "def apply_correction_df(data):\n",
    "    \n",
    "    # apply correction where possible, save corrected column\n",
    "    df = data.copy()\n",
    "    #display(df.head(1))\n",
    "    #print(df.objectId.unique(), df.fid.unique())\n",
    "    df['isdiffpos'] = df['isdiffpos'].map({'t': 1., 'f': -1.})\n",
    "    df[\"corr\"] = df[\"distnr\"] < 1.4\n",
    "    correction_results = df.apply(lambda x: correction(x.magnr, x.magpsf, x.sigmagnr, x.sigmapsf, x.isdiffpos) if x[\"corr\"] else (np.nan, np.nan, np.nan), axis=1, result_type=\"expand\")\n",
    "    df[\"magpsf_corr\"], df[\"sigmapsf_corr\"], df[\"sigmapsf_corr_ext\"] = correction_results[0], correction_results[1], correction_results[2]\n",
    "    \n",
    "    # check for consistency\n",
    "    idxmin = df.candid.idxmin()\n",
    "    df[\"corr_magstats\"] = df.loc[idxmin][\"corr\"]\n",
    "    \n",
    "    # check if suspicious behavior in the light curve (c1 | c2 | c3)\n",
    "    mask = ((df[\"corr\"] == False) & (df.isdiffpos == -1)) | (df.corr_magstats & (df[\"corr\"] == False)) | ((df.corr_magstats == False) & df[\"corr\"])\n",
    "    df[\"dubious\"] = mask\n",
    "    \n",
    "    # stellar_object\n",
    "    idxmin = df.candid.idxmin()\n",
    "    nearZTF = (df.loc[idxmin].distnr < 1.4) # near a ZTF object\n",
    "    nearPS1 = (df.loc[idxmin].distpsnr1 < 1.4) # near a PS1 object\n",
    "    stellarPS1 = (df.loc[idxmin].sgscore1 > 0.4)  # nearest object in PS1 is stelar\n",
    "    stellarZTF = (df.loc[idxmin].chinr < 2) & (df.loc[idxmin].sharpnr > -0.13) & (df.loc[idxmin].sharpnr < 0.1) # nearest object in ZT is stellar\n",
    "    df[\"stellar_object\"] = (nearZTF & nearPS1 & stellarPS1) | (nearZTF & ~nearPS1 & stellarZTF)\n",
    "    df[\"stellar_magstats\"] = (nearZTF & stellarZTF)\n",
    "    \n",
    "    return df"
   ]
  },
  {
   "cell_type": "code",
   "execution_count": null,
   "metadata": {},
   "outputs": [],
   "source": [
    "def apply_magstats(df):\n",
    "    response = {}\n",
    "    idxmin = df.candid.idxmin()\n",
    "    idxmax = df.candid.idxmax()\n",
    "    nearZTF = (df.loc[idxmin].distnr < 1.4) # near a ZTF object\n",
    "    nearPS1 = (df.loc[idxmin].distpsnr1 < 1.4) # near a PS1 object\n",
    "    stellarPS1 = (df.loc[idxmin].sgscore1 > 0.4)  # nearest object in PS1 is stelar\n",
    "    stellarZTF = (df.loc[idxmin].chinr < 2) & (df.loc[idxmin].sharpnr > -0.13) & (df.loc[idxmin].sharpnr < 0.1) # nearest object in ZT is stellar \n",
    "    response[\"ndet\"] = len(df)\n",
    "    response[\"rfid\"] = df.loc[idxmin].rfid # ?\n",
    "    response[\"nrfid\"] = len(df.rfid.dropna().unique())\n",
    "    response[\"magnr\"] = df.loc[idxmin].magnr # ?\n",
    "    response[\"stellar_object\"] = (nearZTF & nearPS1 & stellarPS1) | (nearZTF & ~nearPS1 & stellarZTF)\n",
    "    response[\"stellar_magstats\"] = (nearZTF & stellarZTF)\n",
    "    response[\"magap_mean\"] = df.magap.mean()\n",
    "    response[\"magap_median\"] = df.magap.median()\n",
    "    response[\"magap_max\"] = df.magap.max()\n",
    "    response[\"magap_min\"] = df.magap.min()\n",
    "    response[\"magap_fisrt\"] = df.loc[idxmin].magap\n",
    "    response[\"magap_last\"] = df.loc[idxmax].magap\n",
    "    response[\"first_mjd\"] = df.loc[idxmin].jd - 2400000.5\n",
    "    response[\"last_mjd\"] = df.loc[idxmax].jd - 2400000.5\n",
    "    return pd.Series(response)"
   ]
  },
  {
   "cell_type": "code",
   "execution_count": null,
   "metadata": {
    "ExecuteTime": {
     "end_time": "2020-06-16T15:41:21.479567Z",
     "start_time": "2020-06-16T15:41:20.967031Z"
    },
    "scrolled": true
   },
   "outputs": [],
   "source": [
    "dflarge = data.groupby([\"objectId\", \"fid\"]).apply(apply_correction_df)"
   ]
  },
  {
   "cell_type": "code",
   "execution_count": null,
   "metadata": {
    "ExecuteTime": {
     "end_time": "2020-06-16T15:41:22.509039Z",
     "start_time": "2020-06-16T15:41:22.198560Z"
    },
    "scrolled": true
   },
   "outputs": [],
   "source": [
    "dflarge[[\"objectId\", \"fid\", \"distnr\", \"distpsnr1\", \"sgscore1\", \"chinr\", \"sharpnr\", \"corr\", \"corr_magstats\", \"dubious\", \"stellar_object\", \"stellar_magstats\"]]"
   ]
  },
  {
   "cell_type": "code",
   "execution_count": null,
   "metadata": {},
   "outputs": [],
   "source": [
    "groups = data.groupby([\"objectId\", \"fid\"])"
   ]
  },
  {
   "cell_type": "code",
   "execution_count": null,
   "metadata": {},
   "outputs": [],
   "source": [
    "pd.options.display.max_rows = 999\n",
    "display(data[[\"objectId\", \"fid\", \"magpsf\", \"distnr\", \"chinr\", \"sharpnr\"]])"
   ]
  },
  {
   "cell_type": "code",
   "execution_count": null,
   "metadata": {
    "ExecuteTime": {
     "end_time": "2020-06-16T20:28:30.098469Z",
     "start_time": "2020-06-16T20:28:30.059612Z"
    }
   },
   "outputs": [],
   "source": [
    "def apply_correction_df(data):\n",
    "    \n",
    "    # apply correction where possible, save corrected column\n",
    "    df = data.copy()\n",
    "    #display(df.head(1))\n",
    "    #print(df.objectId.unique(), df.fid.unique())\n",
    "    df['isdiffpos'] = df['isdiffpos'].map({'t': 1., 'f': -1.})\n",
    "    df[\"corr\"] = df[\"distnr\"] < 1.4\n",
    "    correction_results = df.apply(lambda x: correction(x.magnr, x.magpsf, x.sigmagnr, x.sigmapsf, x.isdiffpos) if x[\"corr\"] else (np.nan, np.nan, np.nan), axis=1, result_type=\"expand\")\n",
    "    df[\"magpsf_corr\"], df[\"sigmapsf_corr\"], df[\"sigmapsf_corr_ext\"] = correction_results[0], correction_results[1], correction_results[2]\n",
    "    \n",
    "    # check for consistency\n",
    "    idxmin = df.candid.idxmin()\n",
    "    df[\"corr_magstats\"] = df.loc[idxmin][\"corr\"]\n",
    "    \n",
    "    # check if suspicious behavior in the light curve (c1 | c2 | c3)\n",
    "    mask = ((df[\"corr\"] == False) & (df.isdiffpos == -1)) | (df.corr_magstats & (df[\"corr\"] == False)) | ((df.corr_magstats == False) & df[\"corr\"])\n",
    "    df[\"dubious\"] = mask\n",
    "    \n",
    "    # stellar_object\n",
    "    idxmin = df.candid.idxmin()\n",
    "    nearZTF = (df.loc[idxmin].distnr >= 0) & (df.loc[idxmin].distnr < 1.4) # near a ZTF object\n",
    "    nearPS1 = (df.loc[idxmin].distpsnr1 < 1.4) # near a PS1 object\n",
    "    stellarPS1 = (df.loc[idxmin].sgscore1 > 0.4)  # nearest object in PS1 is stelar\n",
    "    stellarZTF = (df.loc[idxmin].chinr < 2) & (df.loc[idxmin].sharpnr > -0.13) & (df.loc[idxmin].sharpnr < 0.1) # nearest object in ZT is stellar\n",
    "    df[\"stellar_object\"] = (nearZTF & nearPS1 & stellarPS1) | (nearZTF & ~nearPS1 & stellarZTF)\n",
    "    df[\"stellar_magstats\"] = (nearZTF & stellarZTF)\n",
    "    \n",
    "    return df"
   ]
  },
  {
   "cell_type": "code",
   "execution_count": null,
   "metadata": {
    "ExecuteTime": {
     "end_time": "2020-06-16T20:28:30.734119Z",
     "start_time": "2020-06-16T20:28:30.620266Z"
    }
   },
   "outputs": [],
   "source": [
    "data.loc[data.objectId == \"ZTF18aaxnouf\"][[\"distnr\", \"magnr\"]]"
   ]
  },
  {
   "cell_type": "code",
   "execution_count": null,
   "metadata": {
    "ExecuteTime": {
     "end_time": "2020-06-16T20:28:32.585901Z",
     "start_time": "2020-06-16T20:28:32.417987Z"
    },
    "scrolled": true
   },
   "outputs": [],
   "source": [
    "dflarge = data.loc[data.objectId == \"ZTF18aaxnouf\"].groupby([\"objectId\", \"fid\"]).apply(apply_correction_df)"
   ]
  },
  {
   "cell_type": "code",
   "execution_count": null,
   "metadata": {
    "ExecuteTime": {
     "end_time": "2020-06-16T16:35:44.820052Z",
     "start_time": "2020-06-16T16:35:44.815412Z"
    }
   },
   "outputs": [],
   "source": [
    "dflarge[\"mjd\"] = dflarge.jd - 2400000.5"
   ]
  },
  {
   "cell_type": "code",
   "execution_count": null,
   "metadata": {
    "ExecuteTime": {
     "end_time": "2020-06-16T19:14:58.434227Z",
     "start_time": "2020-06-16T19:14:57.981065Z"
    },
    "scrolled": true
   },
   "outputs": [],
   "source": [
    "dflarge[[\"objectId\", \"rfid\", \"fid\", \"candid\", \"mjd\", \"magpsf\", \"magnr\", \"isdiffpos\", \"magpsf_corr\", \"distnr\", \"distpsnr1\", \"sgscore1\", \"chinr\", \"sharpnr\", \"corr\", \"corr_magstats\", \"dubious\", \"stellar_object\", \"stellar_magstats\"]]"
   ]
  },
  {
   "cell_type": "code",
   "execution_count": null,
   "metadata": {
    "ExecuteTime": {
     "end_time": "2020-06-16T19:06:27.179962Z",
     "start_time": "2020-06-16T19:06:20.529434Z"
    },
    "scrolled": false
   },
   "outputs": [],
   "source": [
    "colors = {1: 'g', 2: 'r'}\n",
    "period = {}\n",
    "period['ZTF19aazzpje'] = None #'ZTF20aaelulu' #'ZTF19aazzpje' # SN\n",
    "period['ZTF18aaiscil'] = None # weird\n",
    "period['ZTF18abdgukn'] = None # AGN\n",
    "period['ZTF18aazxcwf'] = 0.614515 # RRL\n",
    "period['ZTF17aaaedmd'] = None # LPV\n",
    "period[\"ZTF19abaejrh\"] = None\n",
    "period[\"ZTF20aaelulu\"] = None\n",
    "\n",
    "for oid in dflarge.objectId.unique():\n",
    "    fig, ax = plt.subplots(ncols = 3, sharey = False, figsize=(30, 6))\n",
    "    maskoid = dflarge.objectId == oid\n",
    "    for fid in dflarge.loc[maskoid].fid.unique():\n",
    "        mask = maskoid & (dflarge.fid == fid)\n",
    "        for pos in dflarge.loc[mask].isdiffpos.unique():\n",
    "            \n",
    "            mask = mask & (dflarge.isdiffpos == pos)\n",
    "            mask_diff = mask & (dflarge.sigmapsf < 2)\n",
    "            mask_corr = mask & (dflarge.sigmapsf_corr < 2)\n",
    "            mask_corr_ext = mask & (dflarge.sigmapsf_corr_ext < 2)\n",
    "        \n",
    "            color = colors[fid]\n",
    "            marker = 'o' if pos == 't' else '*'\n",
    "\n",
    "            if period[oid] is None:\n",
    "                ax[0].errorbar(dflarge.loc[mask_diff].jd, dflarge.loc[mask_diff].magpsf, yerr=dflarge.loc[mask_diff].sigmapsf, c=color, marker=marker, lw=0, elinewidth=1, alpha=1, label=\"magpsf\")\n",
    "                ax[1].errorbar(dflarge.loc[mask_corr].jd, dflarge.loc[mask_corr].magpsf_corr, yerr=dflarge.loc[mask_corr].sigmapsf_corr, c=color, marker=marker, lw=0, elinewidth=1, alpha=1, label=\"magpsf_corr\")\n",
    "                ax[2].errorbar(dflarge.loc[mask_corr_ext].jd, dflarge.loc[mask_corr_ext].magpsf_corr, yerr=dflarge.loc[mask_corr_ext].sigmapsf_corr_ext, c=color, marker=marker, lw=0, elinewidth=1, alpha=1, label=\"magpsf_corr_ext\")\n",
    "            else:\n",
    "                ax[0].errorbar(np.mod(dflarge.loc[mask_diff].jd, period[oid]), dflarge.loc[mask_diff].magpsf, yerr=dflarge.loc[mask_diff].sigmapsf, c=color, marker=marker, lw=0, elinewidth=1, alpha=1, label=\"magpsf\")\n",
    "                ax[1].errorbar(np.mod(dflarge.loc[mask_corr].jd, period[oid]), dflarge.loc[mask_corr].magpsf_corr, yerr=dflarge.loc[mask_corr].sigmapsf_corr, c=color, marker=marker, lw=0, elinewidth=1, alpha=1, label=\"magpsf_corr\")\n",
    "                ax[2].errorbar(np.mod(dflarge.loc[mask_corr_ext].jd, period[oid]), dflarge.loc[mask_corr_ext].magpsf_corr, yerr=dflarge.loc[mask_corr_ext].sigmapsf_corr_ext, c=color, marker=marker, lw=0, elinewidth=1, alpha=1, label=\"magpsf_corr_ext\")\n",
    "    \n",
    "    for i in range(3):\n",
    "        ax[i].set_title(oid)\n",
    "        ax[i].set_ylim(ax[i].get_ylim()[::-1])\n",
    "        ax[i].legend()\n",
    "        if period[oid] is None:\n",
    "            ax[i].set_xlabel(\"jd\")\n",
    "        else:\n",
    "            ax[i].set_xlabel(\"phase\")"
   ]
  },
  {
   "cell_type": "code",
   "execution_count": null,
   "metadata": {},
   "outputs": [],
   "source": []
  }
 ],
 "metadata": {
  "kernelspec": {
   "display_name": "Python 3",
   "language": "python",
   "name": "python3"
  },
  "language_info": {
   "codemirror_mode": {
    "name": "ipython",
    "version": 3
   },
   "file_extension": ".py",
   "mimetype": "text/x-python",
   "name": "python",
   "nbconvert_exporter": "python",
   "pygments_lexer": "ipython3",
   "version": "3.6.5"
  }
 },
 "nbformat": 4,
 "nbformat_minor": 2
}
