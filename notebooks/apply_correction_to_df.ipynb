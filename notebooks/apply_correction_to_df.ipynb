{
 "cells": [
  {
   "cell_type": "code",
   "execution_count": 1,
   "metadata": {
    "ExecuteTime": {
     "end_time": "2020-06-15T16:53:37.682415Z",
     "start_time": "2020-06-15T16:53:37.677105Z"
    }
   },
   "outputs": [],
   "source": [
    "import os\n",
    "import fastavro\n",
    "import numpy as np\n",
    "import pandas as pd\n",
    "import matplotlib.pyplot as plt\n",
    "from correction.compute import *"
   ]
  },
  {
   "cell_type": "code",
   "execution_count": 2,
   "metadata": {
    "ExecuteTime": {
     "end_time": "2020-06-15T19:43:56.799870Z",
     "start_time": "2020-06-15T19:43:56.795867Z"
    }
   },
   "outputs": [
    {
     "data": {
      "text/html": [
       "<style>.container { width:100% !important; }</style>"
      ],
      "text/plain": [
       "<IPython.core.display.HTML object>"
      ]
     },
     "metadata": {},
     "output_type": "display_data"
    }
   ],
   "source": [
    "from IPython.core.display import display, HTML\n",
    "display(HTML(\"<style>.container { width:100% !important; }</style>\"))"
   ]
  },
  {
   "cell_type": "code",
   "execution_count": 3,
   "metadata": {
    "ExecuteTime": {
     "end_time": "2020-06-15T19:50:48.211789Z",
     "start_time": "2020-06-15T19:50:48.170598Z"
    }
   },
   "outputs": [],
   "source": [
    "data = pd.read_csv(\"../data_examples/csv/raw_detections.csv\", index_col=False)"
   ]
  },
  {
   "cell_type": "code",
   "execution_count": null,
   "metadata": {
    "ExecuteTime": {
     "end_time": "2020-06-15T19:51:45.406182Z",
     "start_time": "2020-06-15T19:51:45.403394Z"
    }
   },
   "outputs": [],
   "source": [
    "# test c2\n",
    "data.at[180, \"isdiffpos\"] = 'f'"
   ]
  },
  {
   "cell_type": "code",
   "execution_count": null,
   "metadata": {
    "ExecuteTime": {
     "end_time": "2020-06-15T19:55:14.638918Z",
     "start_time": "2020-06-15T19:55:14.630686Z"
    }
   },
   "outputs": [],
   "source": [
    "# test c3\n",
    "data.at[150, \"distnr\"] = 0.1"
   ]
  },
  {
   "cell_type": "code",
   "execution_count": null,
   "metadata": {
    "ExecuteTime": {
     "end_time": "2020-06-15T19:25:23.061854Z",
     "start_time": "2020-06-15T19:25:23.056507Z"
    }
   },
   "outputs": [],
   "source": [
    "print(data.objectId.unique(), data.fid.unique())"
   ]
  },
  {
   "cell_type": "code",
   "execution_count": null,
   "metadata": {
    "ExecuteTime": {
     "end_time": "2020-06-15T19:55:17.115333Z",
     "start_time": "2020-06-15T19:55:16.919125Z"
    },
    "scrolled": true
   },
   "outputs": [],
   "source": [
    "pd.options.display.max_rows = 999\n",
    "display(data[[\"objectId\", \"fid\", \"magpsf\", \"distnr\", \"chinr\", \"sharpnr\"]])"
   ]
  },
  {
   "cell_type": "code",
   "execution_count": null,
   "metadata": {
    "ExecuteTime": {
     "end_time": "2020-06-16T15:37:38.282346Z",
     "start_time": "2020-06-16T15:37:38.246837Z"
    }
   },
   "outputs": [],
   "source": [
    "def apply_correction_df(data):\n",
    "    \n",
    "    # apply correction where possible, save corrected column\n",
    "    df = data.copy()\n",
    "    #display(df.head(1))\n",
    "    #print(df.objectId.unique(), df.fid.unique())\n",
    "    df['isdiffpos'] = df['isdiffpos'].map({'t': 1., 'f': -1.})\n",
    "    df[\"corr\"] = df[\"distnr\"] < 1.4\n",
    "    correction_results = df.apply(lambda x: correction(x.magnr, x.magpsf, x.sigmagnr, x.sigmapsf, x.isdiffpos) if x[\"corr\"] else (np.nan, np.nan, np.nan), axis=1, result_type=\"expand\")\n",
    "    df[\"magpsf_corr\"], df[\"sigmapsf_corr\"], df[\"sigmapsf_corr_ext\"] = correction_results[0], correction_results[1], correction_results[2]\n",
    "    \n",
    "    # check for consistency\n",
    "    idxmin = df.candid.idxmin()\n",
    "    df[\"corr_magstats\"] = df.loc[idxmin][\"corr\"]\n",
    "    \n",
    "    # check if suspicious behavior in the light curve (c1 | c2 | c3)\n",
    "    mask = ((df[\"corr\"] == False) & (df.isdiffpos == -1)) | (df.corr_magstats & (df[\"corr\"] == False)) | ((df.corr_magstats == False) & df[\"corr\"])\n",
    "    df[\"dubious\"] = mask\n",
    "    \n",
    "    # stellar_object\n",
    "    idxmin = df.candid.idxmin()\n",
    "    nearZTF = (df.loc[idxmin].distnr < 1.4) # near a ZTF object\n",
    "    nearPS1 = (df.loc[idxmin].distpsnr1 < 1.4) # near a PS1 object\n",
    "    stellarPS1 = (df.loc[idxmin].sgscore1 > 0.4)  # nearest object in PS1 is stelar\n",
    "    stellarZTF = (df.loc[idxmin].chinr < 2) & (df.loc[idxmin].sharpnr > -0.13) & (df.loc[idxmin].sharpnr < 0.1) # nearest object in ZT is stellar\n",
    "    df[\"stellar_object\"] = (nearZTF & nearPS1 & stellarPS1) | (nearZTF & ~nearPS1 & stellarZTF)\n",
    "    df[\"stellar_magstats\"] = (nearZTF & stellarZTF)\n",
    "    \n",
    "    return df"
   ]
  },
  {
   "cell_type": "code",
   "execution_count": 6,
   "metadata": {},
   "outputs": [],
   "source": [
    "def apply_magstats(df):\n",
    "    response = {}\n",
    "    idxmin = df.candid.idxmin()\n",
    "    idxmax = df.candid.idxmax()\n",
    "    nearZTF = (df.loc[idxmin].distnr < 1.4) # near a ZTF object\n",
    "    nearPS1 = (df.loc[idxmin].distpsnr1 < 1.4) # near a PS1 object\n",
    "    stellarPS1 = (df.loc[idxmin].sgscore1 > 0.4)  # nearest object in PS1 is stelar\n",
    "    stellarZTF = (df.loc[idxmin].chinr < 2) & (df.loc[idxmin].sharpnr > -0.13) & (df.loc[idxmin].sharpnr < 0.1) # nearest object in ZT is stellar \n",
    "    response[\"ndet\"] = len(df)\n",
    "    response[\"rfid\"] = df.loc[idxmin].rfid # ?\n",
    "    response[\"nrfid\"] = len(df.rfid.dropna().unique())\n",
    "    response[\"magnr\"] = df.loc[idxmin].magnr # ?\n",
    "    response[\"stellar_object\"] = (nearZTF & nearPS1 & stellarPS1) | (nearZTF & ~nearPS1 & stellarZTF)\n",
    "    response[\"stellar_magstats\"] = (nearZTF & stellarZTF)\n",
    "    response[\"magap_mean\"] = df.magap.mean()\n",
    "    response[\"magap_median\"] = df.magap.median()\n",
    "    response[\"magap_max\"] = df.magap.max()\n",
    "    response[\"magap_min\"] = df.magap.min()\n",
    "    response[\"magap_fisrt\"] = df.loc[idxmin].magap\n",
    "    response[\"magap_last\"] = df.loc[idxmax].magap\n",
    "    response[\"first_mjd\"] = df.loc[idxmin].jd - 2400000.5\n",
    "    response[\"last_mjd\"] = df.loc[idxmax].jd - 2400000.5\n",
    "    return pd.Series(response)"
   ]
  },
  {
   "cell_type": "code",
   "execution_count": null,
   "metadata": {
    "ExecuteTime": {
     "end_time": "2020-06-16T15:41:21.479567Z",
     "start_time": "2020-06-16T15:41:20.967031Z"
    },
    "scrolled": true
   },
   "outputs": [],
   "source": [
    "dflarge = data.groupby([\"objectId\", \"fid\"]).apply(apply_correction_df)"
   ]
  },
  {
   "cell_type": "code",
   "execution_count": null,
   "metadata": {
    "ExecuteTime": {
     "end_time": "2020-06-16T15:41:22.509039Z",
     "start_time": "2020-06-16T15:41:22.198560Z"
    },
    "scrolled": true
   },
   "outputs": [],
   "source": [
    "dflarge[[\"objectId\", \"fid\", \"distnr\", \"distpsnr1\", \"sgscore1\", \"chinr\", \"sharpnr\", \"corr\", \"corr_magstats\", \"dubious\", \"stellar_object\", \"stellar_magstats\"]]"
   ]
  },
  {
   "cell_type": "code",
   "execution_count": 4,
   "metadata": {},
   "outputs": [],
   "source": [
    "groups = data.groupby([\"objectId\", \"fid\"])"
   ]
  },
  {
   "cell_type": "code",
   "execution_count": 8,
   "metadata": {},
   "outputs": [
    {
     "data": {
      "text/html": [
       "<div>\n",
       "<style scoped>\n",
       "    .dataframe tbody tr th:only-of-type {\n",
       "        vertical-align: middle;\n",
       "    }\n",
       "\n",
       "    .dataframe tbody tr th {\n",
       "        vertical-align: top;\n",
       "    }\n",
       "\n",
       "    .dataframe thead th {\n",
       "        text-align: right;\n",
       "    }\n",
       "</style>\n",
       "<table border=\"1\" class=\"dataframe\">\n",
       "  <thead>\n",
       "    <tr style=\"text-align: right;\">\n",
       "      <th></th>\n",
       "      <th></th>\n",
       "      <th>ndet</th>\n",
       "      <th>rfid</th>\n",
       "      <th>nrfid</th>\n",
       "      <th>magnr</th>\n",
       "      <th>stellar_object</th>\n",
       "      <th>stellar_magstats</th>\n",
       "      <th>magap_mean</th>\n",
       "      <th>magap_median</th>\n",
       "      <th>magap_max</th>\n",
       "      <th>magap_min</th>\n",
       "      <th>magap_fisrt</th>\n",
       "      <th>magap_last</th>\n",
       "      <th>first_mjd</th>\n",
       "      <th>last_mjd</th>\n",
       "    </tr>\n",
       "    <tr>\n",
       "      <th>objectId</th>\n",
       "      <th>fid</th>\n",
       "      <th></th>\n",
       "      <th></th>\n",
       "      <th></th>\n",
       "      <th></th>\n",
       "      <th></th>\n",
       "      <th></th>\n",
       "      <th></th>\n",
       "      <th></th>\n",
       "      <th></th>\n",
       "      <th></th>\n",
       "      <th></th>\n",
       "      <th></th>\n",
       "      <th></th>\n",
       "      <th></th>\n",
       "    </tr>\n",
       "  </thead>\n",
       "  <tbody>\n",
       "    <tr>\n",
       "      <th rowspan=\"2\" valign=\"top\">ZTF18aaiscil</th>\n",
       "      <th>1</th>\n",
       "      <td>270</td>\n",
       "      <td>NaN</td>\n",
       "      <td>2</td>\n",
       "      <td>18.725000</td>\n",
       "      <td>True</td>\n",
       "      <td>True</td>\n",
       "      <td>18.216508</td>\n",
       "      <td>17.764299</td>\n",
       "      <td>19.830000</td>\n",
       "      <td>17.142300</td>\n",
       "      <td>19.830000</td>\n",
       "      <td>18.880800</td>\n",
       "      <td>58248.194780</td>\n",
       "      <td>59004.198796</td>\n",
       "    </tr>\n",
       "    <tr>\n",
       "      <th>2</th>\n",
       "      <td>267</td>\n",
       "      <td>NaN</td>\n",
       "      <td>3</td>\n",
       "      <td>18.410000</td>\n",
       "      <td>True</td>\n",
       "      <td>True</td>\n",
       "      <td>18.398000</td>\n",
       "      <td>18.400200</td>\n",
       "      <td>19.263100</td>\n",
       "      <td>18.034100</td>\n",
       "      <td>19.134899</td>\n",
       "      <td>18.276699</td>\n",
       "      <td>58242.264363</td>\n",
       "      <td>59004.255984</td>\n",
       "    </tr>\n",
       "    <tr>\n",
       "      <th rowspan=\"2\" valign=\"top\">ZTF18aazxcwf</th>\n",
       "      <th>1</th>\n",
       "      <td>57</td>\n",
       "      <td>481120101.0</td>\n",
       "      <td>1</td>\n",
       "      <td>15.888000</td>\n",
       "      <td>True</td>\n",
       "      <td>True</td>\n",
       "      <td>17.123884</td>\n",
       "      <td>17.018200</td>\n",
       "      <td>18.760500</td>\n",
       "      <td>16.140100</td>\n",
       "      <td>17.043600</td>\n",
       "      <td>16.208000</td>\n",
       "      <td>58346.147766</td>\n",
       "      <td>59005.228102</td>\n",
       "    </tr>\n",
       "    <tr>\n",
       "      <th>2</th>\n",
       "      <td>56</td>\n",
       "      <td>481120201.0</td>\n",
       "      <td>1</td>\n",
       "      <td>15.716000</td>\n",
       "      <td>True</td>\n",
       "      <td>True</td>\n",
       "      <td>17.256650</td>\n",
       "      <td>17.174900</td>\n",
       "      <td>19.217300</td>\n",
       "      <td>16.453800</td>\n",
       "      <td>16.877899</td>\n",
       "      <td>17.323000</td>\n",
       "      <td>58281.209780</td>\n",
       "      <td>59001.259282</td>\n",
       "    </tr>\n",
       "    <tr>\n",
       "      <th rowspan=\"2\" valign=\"top\">ZTF18abdgukn</th>\n",
       "      <th>1</th>\n",
       "      <td>55</td>\n",
       "      <td>720120155.0</td>\n",
       "      <td>1</td>\n",
       "      <td>17.815001</td>\n",
       "      <td>False</td>\n",
       "      <td>False</td>\n",
       "      <td>19.671209</td>\n",
       "      <td>19.684200</td>\n",
       "      <td>20.398800</td>\n",
       "      <td>18.893299</td>\n",
       "      <td>19.791000</td>\n",
       "      <td>20.178499</td>\n",
       "      <td>58300.200081</td>\n",
       "      <td>58875.485081</td>\n",
       "    </tr>\n",
       "    <tr>\n",
       "      <th>2</th>\n",
       "      <td>42</td>\n",
       "      <td>720120255.0</td>\n",
       "      <td>2</td>\n",
       "      <td>17.340000</td>\n",
       "      <td>False</td>\n",
       "      <td>False</td>\n",
       "      <td>19.792521</td>\n",
       "      <td>19.787250</td>\n",
       "      <td>20.466499</td>\n",
       "      <td>19.290501</td>\n",
       "      <td>19.884899</td>\n",
       "      <td>19.338499</td>\n",
       "      <td>58306.194479</td>\n",
       "      <td>58765.112974</td>\n",
       "    </tr>\n",
       "    <tr>\n",
       "      <th rowspan=\"2\" valign=\"top\">ZTF19aazzpje</th>\n",
       "      <th>1</th>\n",
       "      <td>9</td>\n",
       "      <td>NaN</td>\n",
       "      <td>1</td>\n",
       "      <td>19.525000</td>\n",
       "      <td>False</td>\n",
       "      <td>False</td>\n",
       "      <td>19.258200</td>\n",
       "      <td>19.066900</td>\n",
       "      <td>20.118999</td>\n",
       "      <td>18.712700</td>\n",
       "      <td>20.118999</td>\n",
       "      <td>19.832800</td>\n",
       "      <td>58647.215463</td>\n",
       "      <td>58675.298102</td>\n",
       "    </tr>\n",
       "    <tr>\n",
       "      <th>2</th>\n",
       "      <td>10</td>\n",
       "      <td>632120231.0</td>\n",
       "      <td>1</td>\n",
       "      <td>18.596001</td>\n",
       "      <td>False</td>\n",
       "      <td>False</td>\n",
       "      <td>19.394120</td>\n",
       "      <td>19.293350</td>\n",
       "      <td>20.365499</td>\n",
       "      <td>18.830200</td>\n",
       "      <td>19.207500</td>\n",
       "      <td>20.365499</td>\n",
       "      <td>58653.207245</td>\n",
       "      <td>58684.187349</td>\n",
       "    </tr>\n",
       "    <tr>\n",
       "      <th rowspan=\"2\" valign=\"top\">ZTF19abaejrh</th>\n",
       "      <th>1</th>\n",
       "      <td>5</td>\n",
       "      <td>NaN</td>\n",
       "      <td>1</td>\n",
       "      <td>18.702999</td>\n",
       "      <td>False</td>\n",
       "      <td>False</td>\n",
       "      <td>19.071700</td>\n",
       "      <td>19.156099</td>\n",
       "      <td>19.575300</td>\n",
       "      <td>18.532499</td>\n",
       "      <td>18.532499</td>\n",
       "      <td>19.575300</td>\n",
       "      <td>58653.380359</td>\n",
       "      <td>58675.447743</td>\n",
       "    </tr>\n",
       "    <tr>\n",
       "      <th>2</th>\n",
       "      <td>8</td>\n",
       "      <td>599120201.0</td>\n",
       "      <td>1</td>\n",
       "      <td>18.254000</td>\n",
       "      <td>False</td>\n",
       "      <td>False</td>\n",
       "      <td>19.300600</td>\n",
       "      <td>19.175150</td>\n",
       "      <td>19.866199</td>\n",
       "      <td>18.797701</td>\n",
       "      <td>19.767700</td>\n",
       "      <td>19.590000</td>\n",
       "      <td>58653.443403</td>\n",
       "      <td>58688.408079</td>\n",
       "    </tr>\n",
       "    <tr>\n",
       "      <th rowspan=\"2\" valign=\"top\">ZTF20aaelulu</th>\n",
       "      <th>1</th>\n",
       "      <td>31</td>\n",
       "      <td>576120110.0</td>\n",
       "      <td>1</td>\n",
       "      <td>16.099001</td>\n",
       "      <td>False</td>\n",
       "      <td>False</td>\n",
       "      <td>16.860161</td>\n",
       "      <td>16.848499</td>\n",
       "      <td>18.524000</td>\n",
       "      <td>14.328200</td>\n",
       "      <td>14.956700</td>\n",
       "      <td>18.524000</td>\n",
       "      <td>58859.522280</td>\n",
       "      <td>58967.227049</td>\n",
       "    </tr>\n",
       "    <tr>\n",
       "      <th>2</th>\n",
       "      <td>27</td>\n",
       "      <td>576120210.0</td>\n",
       "      <td>1</td>\n",
       "      <td>15.832000</td>\n",
       "      <td>False</td>\n",
       "      <td>False</td>\n",
       "      <td>16.245715</td>\n",
       "      <td>16.440100</td>\n",
       "      <td>18.117599</td>\n",
       "      <td>13.872700</td>\n",
       "      <td>17.158300</td>\n",
       "      <td>18.117599</td>\n",
       "      <td>58855.542292</td>\n",
       "      <td>58965.286690</td>\n",
       "    </tr>\n",
       "  </tbody>\n",
       "</table>\n",
       "</div>"
      ],
      "text/plain": [
       "                  ndet         rfid  nrfid      magnr  stellar_object  \\\n",
       "objectId     fid                                                        \n",
       "ZTF18aaiscil 1     270          NaN      2  18.725000            True   \n",
       "             2     267          NaN      3  18.410000            True   \n",
       "ZTF18aazxcwf 1      57  481120101.0      1  15.888000            True   \n",
       "             2      56  481120201.0      1  15.716000            True   \n",
       "ZTF18abdgukn 1      55  720120155.0      1  17.815001           False   \n",
       "             2      42  720120255.0      2  17.340000           False   \n",
       "ZTF19aazzpje 1       9          NaN      1  19.525000           False   \n",
       "             2      10  632120231.0      1  18.596001           False   \n",
       "ZTF19abaejrh 1       5          NaN      1  18.702999           False   \n",
       "             2       8  599120201.0      1  18.254000           False   \n",
       "ZTF20aaelulu 1      31  576120110.0      1  16.099001           False   \n",
       "             2      27  576120210.0      1  15.832000           False   \n",
       "\n",
       "                  stellar_magstats  magap_mean  magap_median  magap_max  \\\n",
       "objectId     fid                                                          \n",
       "ZTF18aaiscil 1                True   18.216508     17.764299  19.830000   \n",
       "             2                True   18.398000     18.400200  19.263100   \n",
       "ZTF18aazxcwf 1                True   17.123884     17.018200  18.760500   \n",
       "             2                True   17.256650     17.174900  19.217300   \n",
       "ZTF18abdgukn 1               False   19.671209     19.684200  20.398800   \n",
       "             2               False   19.792521     19.787250  20.466499   \n",
       "ZTF19aazzpje 1               False   19.258200     19.066900  20.118999   \n",
       "             2               False   19.394120     19.293350  20.365499   \n",
       "ZTF19abaejrh 1               False   19.071700     19.156099  19.575300   \n",
       "             2               False   19.300600     19.175150  19.866199   \n",
       "ZTF20aaelulu 1               False   16.860161     16.848499  18.524000   \n",
       "             2               False   16.245715     16.440100  18.117599   \n",
       "\n",
       "                  magap_min  magap_fisrt  magap_last     first_mjd  \\\n",
       "objectId     fid                                                     \n",
       "ZTF18aaiscil 1    17.142300    19.830000   18.880800  58248.194780   \n",
       "             2    18.034100    19.134899   18.276699  58242.264363   \n",
       "ZTF18aazxcwf 1    16.140100    17.043600   16.208000  58346.147766   \n",
       "             2    16.453800    16.877899   17.323000  58281.209780   \n",
       "ZTF18abdgukn 1    18.893299    19.791000   20.178499  58300.200081   \n",
       "             2    19.290501    19.884899   19.338499  58306.194479   \n",
       "ZTF19aazzpje 1    18.712700    20.118999   19.832800  58647.215463   \n",
       "             2    18.830200    19.207500   20.365499  58653.207245   \n",
       "ZTF19abaejrh 1    18.532499    18.532499   19.575300  58653.380359   \n",
       "             2    18.797701    19.767700   19.590000  58653.443403   \n",
       "ZTF20aaelulu 1    14.328200    14.956700   18.524000  58859.522280   \n",
       "             2    13.872700    17.158300   18.117599  58855.542292   \n",
       "\n",
       "                      last_mjd  \n",
       "objectId     fid                \n",
       "ZTF18aaiscil 1    59004.198796  \n",
       "             2    59004.255984  \n",
       "ZTF18aazxcwf 1    59005.228102  \n",
       "             2    59001.259282  \n",
       "ZTF18abdgukn 1    58875.485081  \n",
       "             2    58765.112974  \n",
       "ZTF19aazzpje 1    58675.298102  \n",
       "             2    58684.187349  \n",
       "ZTF19abaejrh 1    58675.447743  \n",
       "             2    58688.408079  \n",
       "ZTF20aaelulu 1    58967.227049  \n",
       "             2    58965.286690  "
      ]
     },
     "metadata": {},
     "output_type": "display_data"
    }
   ],
   "source": [
    "magstats = groups.apply(apply_magstats)\n",
    "display(magstats)"
   ]
  },
  {
   "cell_type": "code",
   "execution_count": null,
   "metadata": {},
   "outputs": [],
   "source": []
  }
 ],
 "metadata": {
  "kernelspec": {
   "display_name": "Python 3",
   "language": "python",
   "name": "python3"
  },
  "language_info": {
   "codemirror_mode": {
    "name": "ipython",
    "version": 3
   },
   "file_extension": ".py",
   "mimetype": "text/x-python",
   "name": "python",
   "nbconvert_exporter": "python",
   "pygments_lexer": "ipython3",
   "version": "3.7.4"
  }
 },
 "nbformat": 4,
 "nbformat_minor": 2
}
